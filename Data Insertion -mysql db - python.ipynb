{
 "cells": [
  {
   "cell_type": "markdown",
   "id": "17f18a5b",
   "metadata": {},
   "source": [
    "# Data Insertion in Mysql -python"
   ]
  },
  {
   "cell_type": "markdown",
   "id": "ac8a539b",
   "metadata": {},
   "source": [
    "# Creating Connection With MySQL"
   ]
  },
  {
   "cell_type": "markdown",
   "id": "31782de4",
   "metadata": {},
   "source": [
    "## Import Libraries "
   ]
  },
  {
   "cell_type": "code",
   "execution_count": 1,
   "id": "eb603e7e",
   "metadata": {},
   "outputs": [],
   "source": [
    "import mysql.connector as sql\n",
    "import pandas as pd"
   ]
  },
  {
   "cell_type": "markdown",
   "id": "55ce16b9",
   "metadata": {},
   "source": [
    "## Connecting with MySQL "
   ]
  },
  {
   "cell_type": "code",
   "execution_count": 2,
   "id": "f2a4142b",
   "metadata": {},
   "outputs": [],
   "source": [
    "con=sql.connect(host=\"localhost\",\n",
    "                user=\"root\", \n",
    "                password=\"250994\", \n",
    "                database=\"phonepe_data\"\n",
    "               )\n",
    "\n",
    "mycursor=con.cursor(buffered=True)"
   ]
  },
  {
   "cell_type": "markdown",
   "id": "b7860409",
   "metadata": {},
   "source": [
    "## Create a new database and tables "
   ]
  },
  {
   "cell_type": "code",
   "execution_count": 7,
   "id": "94f2a403",
   "metadata": {},
   "outputs": [],
   "source": [
    "#mycursor.execute(\"CREATE DATABASE phonepepulse\")"
   ]
  },
  {
   "cell_type": "markdown",
   "id": "02c5e3a7",
   "metadata": {},
   "source": [
    "## Import csv file to SQL from python "
   ]
  },
  {
   "cell_type": "code",
   "execution_count": 3,
   "id": "3e4d681a",
   "metadata": {},
   "outputs": [],
   "source": [
    "Agg_Trans1=pd.read_csv('Agg_Trans.csv')\n",
    "Agg_User1=pd.read_csv('Agg_User.csv')\n",
    "Map_Trans1=pd.read_csv('Map_Trans.csv')\n",
    "Map_User1=pd.read_csv('Map_User.csv')\n",
    "Top_Trans1=pd.read_csv('Top_Trans.csv')\n",
    "Top_User1=pd.read_csv('Top_User.csv')"
   ]
  },
  {
   "cell_type": "markdown",
   "id": "31581c77",
   "metadata": {},
   "source": [
    "## Create Aggregated Transaction table "
   ]
  },
  {
   "cell_type": "code",
   "execution_count": 4,
   "id": "a92d6241",
   "metadata": {},
   "outputs": [],
   "source": [
    "mycursor.execute(\"create table trans_agg (State varchar(100), Year int, Quarter int, Transaction_type varchar(100), Transaction_count int, Transaction_amount double)\")\n",
    "\n",
    "for i,row in Agg_Trans1.iterrows():\n",
    "    sql=\"INSERT INTO trans_agg Values (%s,%s,%s,%s,%s,%s)\"\n",
    "    # %s- considered to be string values\n",
    "    mycursor.execute(sql,tuple(row))\n",
    "    #by default the connection is not auto commited.so,we use commit() & they become permanent and cannot be rolled back.\n",
    "    con.commit()"
   ]
  },
  {
   "cell_type": "markdown",
   "id": "e74f8177",
   "metadata": {},
   "source": [
    "## Create Agreegated Users table "
   ]
  },
  {
   "cell_type": "code",
   "execution_count": 5,
   "id": "9529a4e1",
   "metadata": {},
   "outputs": [],
   "source": [
    "mycursor.execute(\"create table user_agg (State varchar(100), Year int, Quarter int, Brands varchar(100), Count int, Percentage double)\")\n",
    "\n",
    "for i,row in Agg_User1.iterrows():\n",
    "    sql=\"INSERT INTO user_agg Values (%s,%s,%s,%s,%s,%s)\"\n",
    "    mycursor.execute(sql,tuple(row))\n",
    "    con.commit()"
   ]
  },
  {
   "cell_type": "markdown",
   "id": "f2def5ef",
   "metadata": {},
   "source": [
    "## Create Map Transaction table "
   ]
  },
  {
   "cell_type": "code",
   "execution_count": 9,
   "id": "5c0430e2",
   "metadata": {},
   "outputs": [],
   "source": [
    "mycursor.execute(\"create table trans_map1 (State varchar(100), Year int, Quarter int, District varchar(100), Count int, Amount double)\")\n",
    "\n",
    "for i,row in Map_Trans1.iterrows():\n",
    "    sql=\"INSERT INTO trans_map1 Values (%s,%s,%s,%s,%s,%s)\"\n",
    "    mycursor.execute(sql,tuple(row))\n",
    "    con.commit()"
   ]
  },
  {
   "cell_type": "markdown",
   "id": "aa39ec7a",
   "metadata": {},
   "source": [
    "## Create Map Users table "
   ]
  },
  {
   "cell_type": "code",
   "execution_count": 10,
   "id": "0cb631e3",
   "metadata": {},
   "outputs": [],
   "source": [
    "mycursor.execute(\"create table user_map (State varchar(100), Year int, Quarter int, District varchar(100), Registered_user int, App_opens int)\")\n",
    "\n",
    "for i,row in Map_User1.iterrows():\n",
    "    sql = \"INSERT INTO user_map Values (%s,%s,%s,%s,%s,%s)\"\n",
    "    mycursor.execute(sql, tuple(row))\n",
    "    con.commit()"
   ]
  },
  {
   "cell_type": "markdown",
   "id": "377be6af",
   "metadata": {},
   "source": [
    "## Create Top Transaction table "
   ]
  },
  {
   "cell_type": "code",
   "execution_count": 11,
   "id": "26aefd77",
   "metadata": {},
   "outputs": [],
   "source": [
    "mycursor.execute(\"create table trans_top (State varchar(100), Year int, Quarter int, Pincode int, Transaction_count int, Transaction_amount double)\")\n",
    "\n",
    "for i,row in Top_Trans1.iterrows():\n",
    "    sql = \"INSERT INTO trans_top Values (%s,%s,%s,%s,%s,%s)\"\n",
    "    mycursor.execute(sql, tuple(row))\n",
    "    con.commit()"
   ]
  },
  {
   "cell_type": "markdown",
   "id": "f6ddcb63",
   "metadata": {},
   "source": [
    "## Create Top Users table  "
   ]
  },
  {
   "cell_type": "code",
   "execution_count": 12,
   "id": "308e21cf",
   "metadata": {},
   "outputs": [],
   "source": [
    "mycursor.execute(\"create table user_top (State varchar(100), Year int, Quarter int, Pincode int, Registered_users int)\")\n",
    "\n",
    "for i,row in Top_User1.iterrows():\n",
    "    sql=\"INSERT INTO user_top Values (%s,%s,%s,%s,%s)\"\n",
    "    mycursor.execute(sql, tuple(row))\n",
    "    con.commit()"
   ]
  },
  {
   "cell_type": "markdown",
   "id": "257e1ca3",
   "metadata": {},
   "source": [
    "## List of tables"
   ]
  },
  {
   "cell_type": "code",
   "execution_count": 15,
   "id": "99f2a178",
   "metadata": {},
   "outputs": [
    {
     "data": {
      "text/plain": [
       "[('trans_agg',),\n",
       " ('trans_map1',),\n",
       " ('trans_top',),\n",
       " ('user_agg',),\n",
       " ('user_map',),\n",
       " ('user_top',)]"
      ]
     },
     "execution_count": 15,
     "metadata": {},
     "output_type": "execute_result"
    }
   ],
   "source": [
    "mycursor.execute(\"show tables\")\n",
    "mycursor.fetchall()"
   ]
  },
  {
   "cell_type": "code",
   "execution_count": null,
   "id": "43070bf2",
   "metadata": {},
   "outputs": [],
   "source": []
  }
 ],
 "metadata": {
  "kernelspec": {
   "display_name": "Python 3 (ipykernel)",
   "language": "python",
   "name": "python3"
  },
  "language_info": {
   "codemirror_mode": {
    "name": "ipython",
    "version": 3
   },
   "file_extension": ".py",
   "mimetype": "text/x-python",
   "name": "python",
   "nbconvert_exporter": "python",
   "pygments_lexer": "ipython3",
   "version": "3.10.9"
  }
 },
 "nbformat": 4,
 "nbformat_minor": 5
}
